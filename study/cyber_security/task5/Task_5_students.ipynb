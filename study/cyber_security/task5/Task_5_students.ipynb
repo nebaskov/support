{
 "cells": [
  {
   "cell_type": "markdown",
   "metadata": {},
   "source": [
    "# Используемые модули"
   ]
  },
  {
   "cell_type": "code",
   "execution_count": 2,
   "metadata": {},
   "outputs": [],
   "source": [
    "import os\n",
    "import pandas as pd\n",
    "import numpy as np\n",
    "from sklearn.model_selection import cross_validate\n",
    "from sklearn.tree import DecisionTreeClassifier\n",
    "from sklearn.ensemble import RandomForestClassifier\n",
    "from sklearn.linear_model import LogisticRegression\n",
    "# в разных версиях ответы могут отличаться, поэтому важно иметь одну и ту же\n",
    "# !pip install --upgrade pip\n",
    "# !pip install scikit-learn==0.23.0"
   ]
  },
  {
   "cell_type": "markdown",
   "metadata": {},
   "source": [
    "# Загрузка данных"
   ]
  },
  {
   "cell_type": "code",
   "execution_count": 3,
   "metadata": {},
   "outputs": [],
   "source": [
    "df = pd.read_csv(os.path.join(os.getcwd(), 'Task_5_selected_data.csv'))\n",
    "\n",
    "X = df.iloc[:, :-1] #Предикторы\n",
    "y = df.iloc[:, -1] #Классы"
   ]
  },
  {
   "cell_type": "markdown",
   "metadata": {},
   "source": [
    "# Инициализация классификаторов\n",
    "\n",
    "Для логистической регрессии можно увеличить максимальное количество итераций через параметр max_iter (по умолчанию 100), от этого время исполнения увеличится"
   ]
  },
  {
   "cell_type": "code",
   "execution_count": 4,
   "metadata": {},
   "outputs": [],
   "source": [
    "from tqdm import tqdm\n",
    "\n",
    "seed = 94\n",
    "estimators = {\n",
    "    'logit': LogisticRegression(n_jobs=-3, random_state=seed),\n",
    "    'dtc': DecisionTreeClassifier(random_state=seed),\n",
    "    'rfc': RandomForestClassifier(random_state=seed, n_jobs=-3)\n",
    "}"
   ]
  },
  {
   "cell_type": "markdown",
   "metadata": {},
   "source": [
    "## Обучение моделей и кросс валидация"
   ]
  },
  {
   "cell_type": "code",
   "execution_count": 5,
   "metadata": {},
   "outputs": [
    {
     "name": "stderr",
     "output_type": "stream",
     "text": [
      "100%|██████████| 3/3 [00:12<00:00,  4.30s/it]\n"
     ]
    }
   ],
   "source": [
    "from sklearn.model_selection import cross_validate\n",
    "from sklearn.model_selection import ShuffleSplit\n",
    "\n",
    "results = {}\n",
    "\n",
    "#Произведем кросс валидацию на 10 блоков с предварительным случайным перемешиванием\n",
    "cv = 10\n",
    "cross_val = ShuffleSplit(n_splits = cv, test_size = 1/cv, random_state = seed)\n",
    "for name, est in tqdm(estimators.items()):\n",
    "    scores = cross_validate(est, X, y, scoring=['accuracy', 'f1_weighted', 'roc_auc_ovr_weighted'], cv = cross_val, n_jobs=-3)\n",
    "    results.update({name: scores})"
   ]
  },
  {
   "cell_type": "markdown",
   "metadata": {},
   "source": [
    "## Вывод результатов"
   ]
  },
  {
   "cell_type": "code",
   "execution_count": 6,
   "metadata": {},
   "outputs": [
    {
     "name": "stderr",
     "output_type": "stream",
     "text": [
      "100%|██████████| 3/3 [00:00<00:00, 74.46it/s]"
     ]
    },
    {
     "name": "stdout",
     "output_type": "stream",
     "text": [
      "\n",
      "Results for logit\n",
      "Accuracy: 0.275\n",
      "F1: 0.186\n",
      "ROC AUC: 0.624\n",
      "\n",
      "Results for dtc\n",
      "Accuracy: 0.734\n",
      "F1: 0.734\n",
      "ROC AUC: 0.834\n",
      "\n",
      "Results for rfc\n",
      "Accuracy: 0.798\n",
      "F1: 0.798\n",
      "ROC AUC: 0.954\n"
     ]
    },
    {
     "name": "stderr",
     "output_type": "stream",
     "text": [
      "\n"
     ]
    }
   ],
   "source": [
    "for est in tqdm(estimators.keys()):\n",
    "    acc = results[est]['test_accuracy']\n",
    "    f1 = results[est]['test_f1_weighted']\n",
    "    roc_auc = results[est]['test_roc_auc_ovr_weighted']\n",
    "    print(f'\\nResults for {est}')\n",
    "    print(f'Accuracy: {round(np.mean(acc),3)}')\n",
    "    print(f'F1: {round(np.mean(f1),3)}')\n",
    "    print(f'ROC AUC: {round(np.mean(roc_auc),3)}')"
   ]
  },
  {
   "cell_type": "code",
   "execution_count": null,
   "metadata": {},
   "outputs": [],
   "source": []
  }
 ],
 "metadata": {
  "kernelspec": {
   "display_name": "Python 3.10.8 ('shitenv': venv)",
   "language": "python",
   "name": "python3"
  },
  "language_info": {
   "codemirror_mode": {
    "name": "ipython",
    "version": 3
   },
   "file_extension": ".py",
   "mimetype": "text/x-python",
   "name": "python",
   "nbconvert_exporter": "python",
   "pygments_lexer": "ipython3",
   "version": "3.10.8"
  },
  "vscode": {
   "interpreter": {
    "hash": "9da171d52472031140bc913e3da61de2d22566d9b82a055c1dbec25136f8e8ce"
   }
  }
 },
 "nbformat": 4,
 "nbformat_minor": 4
}
